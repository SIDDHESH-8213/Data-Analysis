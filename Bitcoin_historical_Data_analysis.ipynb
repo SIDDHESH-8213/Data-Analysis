{
  "nbformat": 4,
  "nbformat_minor": 0,
  "metadata": {
    "colab": {
      "name": "Bitcoin-historical Data analysis.ipynb",
      "provenance": [],
      "collapsed_sections": [],
      "authorship_tag": "ABX9TyPbO/UMtZ59lKf1oeVElLuU",
      "include_colab_link": true
    },
    "kernelspec": {
      "name": "python3",
      "display_name": "Python 3"
    },
    "language_info": {
      "name": "python"
    }
  },
  "cells": [
    {
      "cell_type": "markdown",
      "metadata": {
        "id": "view-in-github",
        "colab_type": "text"
      },
      "source": [
        "<a href=\"https://colab.research.google.com/github/SIDDHESH-8213/Data-Analysis/blob/main/Bitcoin_historical_Data_analysis.ipynb\" target=\"_parent\"><img src=\"https://colab.research.google.com/assets/colab-badge.svg\" alt=\"Open In Colab\"/></a>"
      ]
    },
    {
      "cell_type": "markdown",
      "metadata": {
        "id": "9vfudDfXAE08"
      },
      "source": [
        "### Importing libraries\n",
        "\n"
      ]
    },
    {
      "cell_type": "code",
      "metadata": {
        "colab": {
          "base_uri": "https://localhost:8080/"
        },
        "id": "7lopKw0U9gV7",
        "outputId": "9e7c9772-9857-411b-84c2-287991c839cb"
      },
      "source": [
        "import numpy as np\n",
        "import pandas as pd\n",
        "import matplotlib.pyplot as plt\n",
        "%matplotlib inline\n",
        "import seaborn as sns\n",
        "\n",
        "print(\"Libraries are successfully imported\")"
      ],
      "execution_count": null,
      "outputs": [
        {
          "output_type": "stream",
          "name": "stdout",
          "text": [
            "Libraries are successfully imported\n"
          ]
        }
      ]
    },
    {
      "cell_type": "markdown",
      "metadata": {
        "id": "Vjyt9JxlAgpe"
      },
      "source": [
        "### Importing the dataset"
      ]
    },
    {
      "cell_type": "code",
      "metadata": {
        "colab": {
          "base_uri": "https://localhost:8080/"
        },
        "id": "uBYRx1us9yCL",
        "outputId": "5725bf70-cbe0-4896-cde4-d7c476db79ab"
      },
      "source": [
        "! pip install kaggle"
      ],
      "execution_count": null,
      "outputs": [
        {
          "output_type": "stream",
          "name": "stdout",
          "text": [
            "Requirement already satisfied: kaggle in /usr/local/lib/python3.7/dist-packages (1.5.12)\n",
            "Requirement already satisfied: tqdm in /usr/local/lib/python3.7/dist-packages (from kaggle) (4.62.3)\n",
            "Requirement already satisfied: six>=1.10 in /usr/local/lib/python3.7/dist-packages (from kaggle) (1.15.0)\n",
            "Requirement already satisfied: python-slugify in /usr/local/lib/python3.7/dist-packages (from kaggle) (5.0.2)\n",
            "Requirement already satisfied: python-dateutil in /usr/local/lib/python3.7/dist-packages (from kaggle) (2.8.2)\n",
            "Requirement already satisfied: urllib3 in /usr/local/lib/python3.7/dist-packages (from kaggle) (1.24.3)\n",
            "Requirement already satisfied: requests in /usr/local/lib/python3.7/dist-packages (from kaggle) (2.23.0)\n",
            "Requirement already satisfied: certifi in /usr/local/lib/python3.7/dist-packages (from kaggle) (2021.10.8)\n",
            "Requirement already satisfied: text-unidecode>=1.3 in /usr/local/lib/python3.7/dist-packages (from python-slugify->kaggle) (1.3)\n",
            "Requirement already satisfied: idna<3,>=2.5 in /usr/local/lib/python3.7/dist-packages (from requests->kaggle) (2.10)\n",
            "Requirement already satisfied: chardet<4,>=3.0.2 in /usr/local/lib/python3.7/dist-packages (from requests->kaggle) (3.0.4)\n"
          ]
        }
      ]
    },
    {
      "cell_type": "code",
      "metadata": {
        "id": "mWuHEdblCPPb"
      },
      "source": [
        "! mkdir ~/.kaggle"
      ],
      "execution_count": null,
      "outputs": []
    },
    {
      "cell_type": "code",
      "metadata": {
        "id": "15cs0h9ICZ5K"
      },
      "source": [
        "! cp kaggle.json ~/.kaggle/"
      ],
      "execution_count": null,
      "outputs": []
    },
    {
      "cell_type": "code",
      "metadata": {
        "id": "c_2aWl1cCjQ7"
      },
      "source": [
        "! chmod 600 ~/.kaggle/kaggle.json"
      ],
      "execution_count": null,
      "outputs": []
    },
    {
      "cell_type": "code",
      "metadata": {
        "colab": {
          "base_uri": "https://localhost:8080/"
        },
        "id": "1Kl9jnTeC3Rm",
        "outputId": "06b4e252-fbd8-4275-bc5c-511caac17c52"
      },
      "source": [
        "! kaggle datasets download -d mczielinski/bitcoin-historical-data"
      ],
      "execution_count": null,
      "outputs": [
        {
          "output_type": "stream",
          "name": "stdout",
          "text": [
            "Downloading bitcoin-historical-data.zip to /content\n",
            " 96% 96.0M/100M [00:00<00:00, 132MB/s]\n",
            "100% 100M/100M [00:00<00:00, 147MB/s] \n"
          ]
        }
      ]
    },
    {
      "cell_type": "code",
      "metadata": {
        "colab": {
          "base_uri": "https://localhost:8080/"
        },
        "id": "SU2jGAy9DHsv",
        "outputId": "3a1d0e07-b453-4579-9f90-302c31e8ef1a"
      },
      "source": [
        "! unzip bitcoin-historical-data.zip"
      ],
      "execution_count": null,
      "outputs": [
        {
          "output_type": "stream",
          "name": "stdout",
          "text": [
            "Archive:  bitcoin-historical-data.zip\n",
            "  inflating: bitstampUSD_1-min_data_2012-01-01_to_2021-03-31.csv  \n"
          ]
        }
      ]
    },
    {
      "cell_type": "markdown",
      "metadata": {
        "id": "N_lJo7VyRJIi"
      },
      "source": [
        "### Overview of the dataset"
      ]
    },
    {
      "cell_type": "markdown",
      "metadata": {
        "id": "1BJM-7g3RbaX"
      },
      "source": [
        "- There are 8 Columns in the dataset \n",
        "- Around 4.9 million entries"
      ]
    },
    {
      "cell_type": "code",
      "metadata": {
        "id": "nGMfa3xkDcqz"
      },
      "source": [
        "btc_df = pd.read_csv(\"bitcoin-data.csv\")"
      ],
      "execution_count": null,
      "outputs": []
    },
    {
      "cell_type": "code",
      "metadata": {
        "colab": {
          "base_uri": "https://localhost:8080/",
          "height": 206
        },
        "id": "zYOpz5B0DnEX",
        "outputId": "a03f62be-681d-43a7-84d9-6f904e4a0f74"
      },
      "source": [
        "btc_df.head()"
      ],
      "execution_count": null,
      "outputs": [
        {
          "output_type": "execute_result",
          "data": {
            "text/html": [
              "<div>\n",
              "<style scoped>\n",
              "    .dataframe tbody tr th:only-of-type {\n",
              "        vertical-align: middle;\n",
              "    }\n",
              "\n",
              "    .dataframe tbody tr th {\n",
              "        vertical-align: top;\n",
              "    }\n",
              "\n",
              "    .dataframe thead th {\n",
              "        text-align: right;\n",
              "    }\n",
              "</style>\n",
              "<table border=\"1\" class=\"dataframe\">\n",
              "  <thead>\n",
              "    <tr style=\"text-align: right;\">\n",
              "      <th></th>\n",
              "      <th>Timestamp</th>\n",
              "      <th>Open</th>\n",
              "      <th>High</th>\n",
              "      <th>Low</th>\n",
              "      <th>Close</th>\n",
              "      <th>Volume_(BTC)</th>\n",
              "      <th>Volume_(Currency)</th>\n",
              "      <th>Weighted_Price</th>\n",
              "    </tr>\n",
              "  </thead>\n",
              "  <tbody>\n",
              "    <tr>\n",
              "      <th>0</th>\n",
              "      <td>1325317920</td>\n",
              "      <td>4.39</td>\n",
              "      <td>4.39</td>\n",
              "      <td>4.39</td>\n",
              "      <td>4.39</td>\n",
              "      <td>0.455581</td>\n",
              "      <td>2.0</td>\n",
              "      <td>4.39</td>\n",
              "    </tr>\n",
              "    <tr>\n",
              "      <th>1</th>\n",
              "      <td>1325317980</td>\n",
              "      <td>NaN</td>\n",
              "      <td>NaN</td>\n",
              "      <td>NaN</td>\n",
              "      <td>NaN</td>\n",
              "      <td>NaN</td>\n",
              "      <td>NaN</td>\n",
              "      <td>NaN</td>\n",
              "    </tr>\n",
              "    <tr>\n",
              "      <th>2</th>\n",
              "      <td>1325318040</td>\n",
              "      <td>NaN</td>\n",
              "      <td>NaN</td>\n",
              "      <td>NaN</td>\n",
              "      <td>NaN</td>\n",
              "      <td>NaN</td>\n",
              "      <td>NaN</td>\n",
              "      <td>NaN</td>\n",
              "    </tr>\n",
              "    <tr>\n",
              "      <th>3</th>\n",
              "      <td>1325318100</td>\n",
              "      <td>NaN</td>\n",
              "      <td>NaN</td>\n",
              "      <td>NaN</td>\n",
              "      <td>NaN</td>\n",
              "      <td>NaN</td>\n",
              "      <td>NaN</td>\n",
              "      <td>NaN</td>\n",
              "    </tr>\n",
              "    <tr>\n",
              "      <th>4</th>\n",
              "      <td>1325318160</td>\n",
              "      <td>NaN</td>\n",
              "      <td>NaN</td>\n",
              "      <td>NaN</td>\n",
              "      <td>NaN</td>\n",
              "      <td>NaN</td>\n",
              "      <td>NaN</td>\n",
              "      <td>NaN</td>\n",
              "    </tr>\n",
              "  </tbody>\n",
              "</table>\n",
              "</div>"
            ],
            "text/plain": [
              "    Timestamp  Open  High  ...  Volume_(BTC)  Volume_(Currency)  Weighted_Price\n",
              "0  1325317920  4.39  4.39  ...      0.455581                2.0            4.39\n",
              "1  1325317980   NaN   NaN  ...           NaN                NaN             NaN\n",
              "2  1325318040   NaN   NaN  ...           NaN                NaN             NaN\n",
              "3  1325318100   NaN   NaN  ...           NaN                NaN             NaN\n",
              "4  1325318160   NaN   NaN  ...           NaN                NaN             NaN\n",
              "\n",
              "[5 rows x 8 columns]"
            ]
          },
          "metadata": {},
          "execution_count": 8
        }
      ]
    },
    {
      "cell_type": "code",
      "metadata": {
        "colab": {
          "base_uri": "https://localhost:8080/"
        },
        "id": "gs4bDf2lDnBa",
        "outputId": "b2a83d78-a249-4b92-9b0c-666b07c221dd"
      },
      "source": [
        "btc_df.info()"
      ],
      "execution_count": null,
      "outputs": [
        {
          "output_type": "stream",
          "name": "stdout",
          "text": [
            "<class 'pandas.core.frame.DataFrame'>\n",
            "RangeIndex: 4857377 entries, 0 to 4857376\n",
            "Data columns (total 8 columns):\n",
            " #   Column             Dtype  \n",
            "---  ------             -----  \n",
            " 0   Timestamp          int64  \n",
            " 1   Open               float64\n",
            " 2   High               float64\n",
            " 3   Low                float64\n",
            " 4   Close              float64\n",
            " 5   Volume_(BTC)       float64\n",
            " 6   Volume_(Currency)  float64\n",
            " 7   Weighted_Price     float64\n",
            "dtypes: float64(7), int64(1)\n",
            "memory usage: 296.5 MB\n"
          ]
        }
      ]
    },
    {
      "cell_type": "code",
      "metadata": {
        "colab": {
          "base_uri": "https://localhost:8080/"
        },
        "id": "uBoMC3LHDm45",
        "outputId": "78d8cda0-df60-46c0-f280-856c77634024"
      },
      "source": [
        "btc_df.columns"
      ],
      "execution_count": null,
      "outputs": [
        {
          "output_type": "execute_result",
          "data": {
            "text/plain": [
              "Index(['Timestamp', 'Open', 'High', 'Low', 'Close', 'Volume_(BTC)',\n",
              "       'Volume_(Currency)', 'Weighted_Price'],\n",
              "      dtype='object')"
            ]
          },
          "metadata": {},
          "execution_count": 11
        }
      ]
    },
    {
      "cell_type": "code",
      "metadata": {
        "colab": {
          "base_uri": "https://localhost:8080/",
          "height": 300
        },
        "id": "bV1hXBREDm91",
        "outputId": "d14d3817-9161-4da4-ddeb-d825a71a589b"
      },
      "source": [
        "btc_df.describe()"
      ],
      "execution_count": null,
      "outputs": [
        {
          "output_type": "execute_result",
          "data": {
            "text/html": [
              "<div>\n",
              "<style scoped>\n",
              "    .dataframe tbody tr th:only-of-type {\n",
              "        vertical-align: middle;\n",
              "    }\n",
              "\n",
              "    .dataframe tbody tr th {\n",
              "        vertical-align: top;\n",
              "    }\n",
              "\n",
              "    .dataframe thead th {\n",
              "        text-align: right;\n",
              "    }\n",
              "</style>\n",
              "<table border=\"1\" class=\"dataframe\">\n",
              "  <thead>\n",
              "    <tr style=\"text-align: right;\">\n",
              "      <th></th>\n",
              "      <th>Timestamp</th>\n",
              "      <th>Open</th>\n",
              "      <th>High</th>\n",
              "      <th>Low</th>\n",
              "      <th>Close</th>\n",
              "      <th>Volume_(BTC)</th>\n",
              "      <th>Volume_(Currency)</th>\n",
              "      <th>Weighted_Price</th>\n",
              "    </tr>\n",
              "  </thead>\n",
              "  <tbody>\n",
              "    <tr>\n",
              "      <th>count</th>\n",
              "      <td>4.857377e+06</td>\n",
              "      <td>3.613769e+06</td>\n",
              "      <td>3.613769e+06</td>\n",
              "      <td>3.613769e+06</td>\n",
              "      <td>3.613769e+06</td>\n",
              "      <td>3.613769e+06</td>\n",
              "      <td>3.613769e+06</td>\n",
              "      <td>3.613769e+06</td>\n",
              "    </tr>\n",
              "    <tr>\n",
              "      <th>mean</th>\n",
              "      <td>1.471301e+09</td>\n",
              "      <td>6.009024e+03</td>\n",
              "      <td>6.013357e+03</td>\n",
              "      <td>6.004488e+03</td>\n",
              "      <td>6.009014e+03</td>\n",
              "      <td>9.323249e+00</td>\n",
              "      <td>4.176284e+04</td>\n",
              "      <td>6.008935e+03</td>\n",
              "    </tr>\n",
              "    <tr>\n",
              "      <th>std</th>\n",
              "      <td>8.428019e+07</td>\n",
              "      <td>8.996247e+03</td>\n",
              "      <td>9.003521e+03</td>\n",
              "      <td>8.988778e+03</td>\n",
              "      <td>8.996360e+03</td>\n",
              "      <td>3.054989e+01</td>\n",
              "      <td>1.518248e+05</td>\n",
              "      <td>8.995992e+03</td>\n",
              "    </tr>\n",
              "    <tr>\n",
              "      <th>min</th>\n",
              "      <td>1.325318e+09</td>\n",
              "      <td>3.800000e+00</td>\n",
              "      <td>3.800000e+00</td>\n",
              "      <td>1.500000e+00</td>\n",
              "      <td>1.500000e+00</td>\n",
              "      <td>0.000000e+00</td>\n",
              "      <td>0.000000e+00</td>\n",
              "      <td>3.800000e+00</td>\n",
              "    </tr>\n",
              "    <tr>\n",
              "      <th>25%</th>\n",
              "      <td>1.398179e+09</td>\n",
              "      <td>4.438600e+02</td>\n",
              "      <td>4.440000e+02</td>\n",
              "      <td>4.435200e+02</td>\n",
              "      <td>4.438600e+02</td>\n",
              "      <td>4.097759e-01</td>\n",
              "      <td>4.521422e+02</td>\n",
              "      <td>4.438306e+02</td>\n",
              "    </tr>\n",
              "    <tr>\n",
              "      <th>50%</th>\n",
              "      <td>1.471428e+09</td>\n",
              "      <td>3.596970e+03</td>\n",
              "      <td>3.598190e+03</td>\n",
              "      <td>3.595620e+03</td>\n",
              "      <td>3.597000e+03</td>\n",
              "      <td>1.979811e+00</td>\n",
              "      <td>3.810124e+03</td>\n",
              "      <td>3.596804e+03</td>\n",
              "    </tr>\n",
              "    <tr>\n",
              "      <th>75%</th>\n",
              "      <td>1.544288e+09</td>\n",
              "      <td>8.627270e+03</td>\n",
              "      <td>8.632980e+03</td>\n",
              "      <td>8.621090e+03</td>\n",
              "      <td>8.627160e+03</td>\n",
              "      <td>7.278216e+00</td>\n",
              "      <td>2.569821e+04</td>\n",
              "      <td>8.627637e+03</td>\n",
              "    </tr>\n",
              "    <tr>\n",
              "      <th>max</th>\n",
              "      <td>1.617149e+09</td>\n",
              "      <td>6.176356e+04</td>\n",
              "      <td>6.178183e+04</td>\n",
              "      <td>6.167355e+04</td>\n",
              "      <td>6.178180e+04</td>\n",
              "      <td>5.853852e+03</td>\n",
              "      <td>1.390067e+07</td>\n",
              "      <td>6.171621e+04</td>\n",
              "    </tr>\n",
              "  </tbody>\n",
              "</table>\n",
              "</div>"
            ],
            "text/plain": [
              "          Timestamp          Open  ...  Volume_(Currency)  Weighted_Price\n",
              "count  4.857377e+06  3.613769e+06  ...       3.613769e+06    3.613769e+06\n",
              "mean   1.471301e+09  6.009024e+03  ...       4.176284e+04    6.008935e+03\n",
              "std    8.428019e+07  8.996247e+03  ...       1.518248e+05    8.995992e+03\n",
              "min    1.325318e+09  3.800000e+00  ...       0.000000e+00    3.800000e+00\n",
              "25%    1.398179e+09  4.438600e+02  ...       4.521422e+02    4.438306e+02\n",
              "50%    1.471428e+09  3.596970e+03  ...       3.810124e+03    3.596804e+03\n",
              "75%    1.544288e+09  8.627270e+03  ...       2.569821e+04    8.627637e+03\n",
              "max    1.617149e+09  6.176356e+04  ...       1.390067e+07    6.171621e+04\n",
              "\n",
              "[8 rows x 8 columns]"
            ]
          },
          "metadata": {},
          "execution_count": 10
        }
      ]
    },
    {
      "cell_type": "markdown",
      "metadata": {
        "id": "oUSDD04hWXGU"
      },
      "source": [
        "### Cleaning the dataset"
      ]
    },
    {
      "cell_type": "code",
      "metadata": {
        "colab": {
          "base_uri": "https://localhost:8080/"
        },
        "id": "-ioUaNBTDmz_",
        "outputId": "434e9003-94eb-45d0-e2e2-f902697863b4"
      },
      "source": [
        "a = btc_df.isna().sum()\n",
        "a\n",
        "# Around 1.2 million entries are Nan \n",
        "# We will remove records having Nan entries"
      ],
      "execution_count": null,
      "outputs": [
        {
          "output_type": "execute_result",
          "data": {
            "text/plain": [
              "Timestamp                  0\n",
              "Open                 1243608\n",
              "High                 1243608\n",
              "Low                  1243608\n",
              "Close                1243608\n",
              "Volume_(BTC)         1243608\n",
              "Volume_(Currency)    1243608\n",
              "Weighted_Price       1243608\n",
              "dtype: int64"
            ]
          },
          "metadata": {},
          "execution_count": 12
        }
      ]
    },
    {
      "cell_type": "code",
      "metadata": {
        "colab": {
          "base_uri": "https://localhost:8080/"
        },
        "id": "a8Oonj3KVp8V",
        "outputId": "ce0753d8-3310-47da-93fd-35b950b0d56b"
      },
      "source": [
        "(a[\"Open\"] / len(btc_df.index) ) * 100\n",
        "# 25 % of the records are Nan"
      ],
      "execution_count": null,
      "outputs": [
        {
          "output_type": "execute_result",
          "data": {
            "text/plain": [
              "25.602459928475803"
            ]
          },
          "metadata": {},
          "execution_count": 13
        }
      ]
    },
    {
      "cell_type": "code",
      "metadata": {
        "id": "cZYLmohQdZd8"
      },
      "source": [
        "btc_df.dropna(inplace = True) #Dropped null values"
      ],
      "execution_count": null,
      "outputs": []
    },
    {
      "cell_type": "code",
      "metadata": {
        "colab": {
          "base_uri": "https://localhost:8080/",
          "height": 50
        },
        "id": "LD-UxXpnXYKI",
        "outputId": "c08e05a2-059c-4043-a0a9-daaf5aa508c1"
      },
      "source": [
        "# Checking for any duplicate values in Timestamp column\n",
        "\n",
        "duplicate = btc_df[btc_df.duplicated()]\n",
        "duplicate\n",
        "\n",
        "# There are no duplicate entries\n",
        "\n"
      ],
      "execution_count": null,
      "outputs": [
        {
          "output_type": "execute_result",
          "data": {
            "text/html": [
              "<div>\n",
              "<style scoped>\n",
              "    .dataframe tbody tr th:only-of-type {\n",
              "        vertical-align: middle;\n",
              "    }\n",
              "\n",
              "    .dataframe tbody tr th {\n",
              "        vertical-align: top;\n",
              "    }\n",
              "\n",
              "    .dataframe thead th {\n",
              "        text-align: right;\n",
              "    }\n",
              "</style>\n",
              "<table border=\"1\" class=\"dataframe\">\n",
              "  <thead>\n",
              "    <tr style=\"text-align: right;\">\n",
              "      <th></th>\n",
              "      <th>Timestamp</th>\n",
              "      <th>Open</th>\n",
              "      <th>High</th>\n",
              "      <th>Low</th>\n",
              "      <th>Close</th>\n",
              "      <th>Volume_(BTC)</th>\n",
              "      <th>Volume_(Currency)</th>\n",
              "      <th>Weighted_Price</th>\n",
              "    </tr>\n",
              "  </thead>\n",
              "  <tbody>\n",
              "  </tbody>\n",
              "</table>\n",
              "</div>"
            ],
            "text/plain": [
              "Empty DataFrame\n",
              "Columns: [Timestamp, Open, High, Low, Close, Volume_(BTC), Volume_(Currency), Weighted_Price]\n",
              "Index: []"
            ]
          },
          "metadata": {},
          "execution_count": 18
        }
      ]
    },
    {
      "cell_type": "code",
      "metadata": {
        "id": "azXyI_FhXYBV"
      },
      "source": [
        "# Let's check for duplicate in Timestamp field\n",
        "\n",
        "duplicate_2 = btc_df[btc_df.duplicated(\"Timestamp\")]\n",
        "duplicate_2\n",
        "\n",
        "# There are no duplicates in Timestamp column"
      ],
      "execution_count": null,
      "outputs": []
    },
    {
      "cell_type": "markdown",
      "metadata": {
        "id": "EvXa6q9wavo6"
      },
      "source": [
        "### Data Processing"
      ]
    },
    {
      "cell_type": "markdown",
      "metadata": {
        "id": "PSYu4tbIbG-O"
      },
      "source": [
        "### Converting the timestamp to date-time format"
      ]
    },
    {
      "cell_type": "code",
      "metadata": {
        "id": "LwZf91oIPV_d"
      },
      "source": [
        "btc_df[\"Time-Stamp\"] = pd.to_datetime(btc_df[\"Timestamp\"], unit = 's')"
      ],
      "execution_count": null,
      "outputs": []
    },
    {
      "cell_type": "code",
      "metadata": {
        "colab": {
          "base_uri": "https://localhost:8080/",
          "height": 206
        },
        "id": "KFxS2qQJCLmj",
        "outputId": "00432b0b-2e68-4e96-8c07-8feb2c859984"
      },
      "source": [
        "btc_df.head()"
      ],
      "execution_count": null,
      "outputs": [
        {
          "output_type": "execute_result",
          "data": {
            "text/html": [
              "<div>\n",
              "<style scoped>\n",
              "    .dataframe tbody tr th:only-of-type {\n",
              "        vertical-align: middle;\n",
              "    }\n",
              "\n",
              "    .dataframe tbody tr th {\n",
              "        vertical-align: top;\n",
              "    }\n",
              "\n",
              "    .dataframe thead th {\n",
              "        text-align: right;\n",
              "    }\n",
              "</style>\n",
              "<table border=\"1\" class=\"dataframe\">\n",
              "  <thead>\n",
              "    <tr style=\"text-align: right;\">\n",
              "      <th></th>\n",
              "      <th>Timestamp</th>\n",
              "      <th>Open</th>\n",
              "      <th>High</th>\n",
              "      <th>Low</th>\n",
              "      <th>Close</th>\n",
              "      <th>Volume_(BTC)</th>\n",
              "      <th>Volume_(Currency)</th>\n",
              "      <th>Weighted_Price</th>\n",
              "      <th>Time-Stamp</th>\n",
              "    </tr>\n",
              "  </thead>\n",
              "  <tbody>\n",
              "    <tr>\n",
              "      <th>0</th>\n",
              "      <td>1325317920</td>\n",
              "      <td>4.39</td>\n",
              "      <td>4.39</td>\n",
              "      <td>4.39</td>\n",
              "      <td>4.39</td>\n",
              "      <td>0.455581</td>\n",
              "      <td>2.000000</td>\n",
              "      <td>4.390000</td>\n",
              "      <td>2011-12-31 07:52:00</td>\n",
              "    </tr>\n",
              "    <tr>\n",
              "      <th>478</th>\n",
              "      <td>1325346600</td>\n",
              "      <td>4.39</td>\n",
              "      <td>4.39</td>\n",
              "      <td>4.39</td>\n",
              "      <td>4.39</td>\n",
              "      <td>48.000000</td>\n",
              "      <td>210.720000</td>\n",
              "      <td>4.390000</td>\n",
              "      <td>2011-12-31 15:50:00</td>\n",
              "    </tr>\n",
              "    <tr>\n",
              "      <th>547</th>\n",
              "      <td>1325350740</td>\n",
              "      <td>4.50</td>\n",
              "      <td>4.57</td>\n",
              "      <td>4.50</td>\n",
              "      <td>4.57</td>\n",
              "      <td>37.862297</td>\n",
              "      <td>171.380338</td>\n",
              "      <td>4.526411</td>\n",
              "      <td>2011-12-31 16:59:00</td>\n",
              "    </tr>\n",
              "    <tr>\n",
              "      <th>548</th>\n",
              "      <td>1325350800</td>\n",
              "      <td>4.58</td>\n",
              "      <td>4.58</td>\n",
              "      <td>4.58</td>\n",
              "      <td>4.58</td>\n",
              "      <td>9.000000</td>\n",
              "      <td>41.220000</td>\n",
              "      <td>4.580000</td>\n",
              "      <td>2011-12-31 17:00:00</td>\n",
              "    </tr>\n",
              "    <tr>\n",
              "      <th>1224</th>\n",
              "      <td>1325391360</td>\n",
              "      <td>4.58</td>\n",
              "      <td>4.58</td>\n",
              "      <td>4.58</td>\n",
              "      <td>4.58</td>\n",
              "      <td>1.502000</td>\n",
              "      <td>6.879160</td>\n",
              "      <td>4.580000</td>\n",
              "      <td>2012-01-01 04:16:00</td>\n",
              "    </tr>\n",
              "  </tbody>\n",
              "</table>\n",
              "</div>"
            ],
            "text/plain": [
              "       Timestamp  Open  ...  Weighted_Price          Time-Stamp\n",
              "0     1325317920  4.39  ...        4.390000 2011-12-31 07:52:00\n",
              "478   1325346600  4.39  ...        4.390000 2011-12-31 15:50:00\n",
              "547   1325350740  4.50  ...        4.526411 2011-12-31 16:59:00\n",
              "548   1325350800  4.58  ...        4.580000 2011-12-31 17:00:00\n",
              "1224  1325391360  4.58  ...        4.580000 2012-01-01 04:16:00\n",
              "\n",
              "[5 rows x 9 columns]"
            ]
          },
          "metadata": {},
          "execution_count": 21
        }
      ]
    },
    {
      "cell_type": "code",
      "metadata": {
        "colab": {
          "base_uri": "https://localhost:8080/"
        },
        "id": "IXwd0BmhdHWC",
        "outputId": "4f4f3501-dd4d-4bf5-b299-e439c05e4bbe"
      },
      "source": [
        "btc_df[\"Time-Stamp\"].min()"
      ],
      "execution_count": null,
      "outputs": [
        {
          "output_type": "execute_result",
          "data": {
            "text/plain": [
              "Timestamp('2011-12-31 07:52:00')"
            ]
          },
          "metadata": {},
          "execution_count": 22
        }
      ]
    },
    {
      "cell_type": "code",
      "metadata": {
        "colab": {
          "base_uri": "https://localhost:8080/"
        },
        "id": "LoFSPoy6dOFR",
        "outputId": "91e57bdd-4dda-4b78-feb6-104a2aaa3b62"
      },
      "source": [
        "btc_df[\"Time-Stamp\"].max()"
      ],
      "execution_count": null,
      "outputs": [
        {
          "output_type": "execute_result",
          "data": {
            "text/plain": [
              "Timestamp('2021-03-31 00:00:00')"
            ]
          },
          "metadata": {},
          "execution_count": 23
        }
      ]
    },
    {
      "cell_type": "markdown",
      "metadata": {
        "id": "JdsS55Vqc5ds"
      },
      "source": [
        "### The time - range of the dataset we are studying is 2011-12-31 to 2021- 03 - 31"
      ]
    },
    {
      "cell_type": "code",
      "metadata": {
        "id": "seFBKnD4PV6n"
      },
      "source": [
        "# Dropping the Timestamp column\n",
        "btc_df.drop(\"Timestamp\",axis = 1, inplace = True)"
      ],
      "execution_count": null,
      "outputs": []
    },
    {
      "cell_type": "code",
      "metadata": {
        "id": "caWHCVuelBeu"
      },
      "source": [
        "btc_df_2 = btc_df.groupby(pd.Grouper(key = \"Time-Stamp\", freq = \"Y\")).mean()\n",
        "# Getting a dataset grouped by year"
      ],
      "execution_count": null,
      "outputs": []
    },
    {
      "cell_type": "code",
      "metadata": {
        "colab": {
          "base_uri": "https://localhost:8080/",
          "height": 426
        },
        "id": "v-kaf4vMlMQS",
        "outputId": "d44c4101-5f61-45ec-ac0a-d27d73a65788"
      },
      "source": [
        "btc_df_2"
      ],
      "execution_count": null,
      "outputs": [
        {
          "output_type": "execute_result",
          "data": {
            "text/html": [
              "<div>\n",
              "<style scoped>\n",
              "    .dataframe tbody tr th:only-of-type {\n",
              "        vertical-align: middle;\n",
              "    }\n",
              "\n",
              "    .dataframe tbody tr th {\n",
              "        vertical-align: top;\n",
              "    }\n",
              "\n",
              "    .dataframe thead th {\n",
              "        text-align: right;\n",
              "    }\n",
              "</style>\n",
              "<table border=\"1\" class=\"dataframe\">\n",
              "  <thead>\n",
              "    <tr style=\"text-align: right;\">\n",
              "      <th></th>\n",
              "      <th>Open</th>\n",
              "      <th>High</th>\n",
              "      <th>Low</th>\n",
              "      <th>Close</th>\n",
              "      <th>Volume_(BTC)</th>\n",
              "      <th>Volume_(Currency)</th>\n",
              "      <th>Weighted_Price</th>\n",
              "    </tr>\n",
              "    <tr>\n",
              "      <th>Time-Stamp</th>\n",
              "      <th></th>\n",
              "      <th></th>\n",
              "      <th></th>\n",
              "      <th></th>\n",
              "      <th></th>\n",
              "      <th></th>\n",
              "      <th></th>\n",
              "    </tr>\n",
              "  </thead>\n",
              "  <tbody>\n",
              "    <tr>\n",
              "      <th>2011-12-31</th>\n",
              "      <td>4.465000</td>\n",
              "      <td>4.482500</td>\n",
              "      <td>4.465000</td>\n",
              "      <td>4.482500</td>\n",
              "      <td>23.829470</td>\n",
              "      <td>106.330084</td>\n",
              "      <td>4.471603</td>\n",
              "    </tr>\n",
              "    <tr>\n",
              "      <th>2012-12-31</th>\n",
              "      <td>10.094570</td>\n",
              "      <td>10.097488</td>\n",
              "      <td>10.091053</td>\n",
              "      <td>10.093934</td>\n",
              "      <td>21.328197</td>\n",
              "      <td>216.485795</td>\n",
              "      <td>10.094143</td>\n",
              "    </tr>\n",
              "    <tr>\n",
              "      <th>2013-12-31</th>\n",
              "      <td>254.281420</td>\n",
              "      <td>254.658978</td>\n",
              "      <td>253.855315</td>\n",
              "      <td>254.264327</td>\n",
              "      <td>15.734087</td>\n",
              "      <td>4851.052777</td>\n",
              "      <td>254.242741</td>\n",
              "    </tr>\n",
              "    <tr>\n",
              "      <th>2014-12-31</th>\n",
              "      <td>527.132511</td>\n",
              "      <td>527.571308</td>\n",
              "      <td>526.679647</td>\n",
              "      <td>527.137609</td>\n",
              "      <td>12.617999</td>\n",
              "      <td>6568.182937</td>\n",
              "      <td>527.113071</td>\n",
              "    </tr>\n",
              "    <tr>\n",
              "      <th>2015-12-31</th>\n",
              "      <td>274.366745</td>\n",
              "      <td>274.509271</td>\n",
              "      <td>274.208588</td>\n",
              "      <td>274.364343</td>\n",
              "      <td>14.823699</td>\n",
              "      <td>4146.228635</td>\n",
              "      <td>274.353829</td>\n",
              "    </tr>\n",
              "    <tr>\n",
              "      <th>2016-12-31</th>\n",
              "      <td>558.906222</td>\n",
              "      <td>559.088461</td>\n",
              "      <td>558.701291</td>\n",
              "      <td>558.905550</td>\n",
              "      <td>5.658247</td>\n",
              "      <td>3159.519900</td>\n",
              "      <td>558.890451</td>\n",
              "    </tr>\n",
              "    <tr>\n",
              "      <th>2017-12-31</th>\n",
              "      <td>4155.221695</td>\n",
              "      <td>4159.353798</td>\n",
              "      <td>4150.157998</td>\n",
              "      <td>4155.146585</td>\n",
              "      <td>9.721584</td>\n",
              "      <td>45053.550037</td>\n",
              "      <td>4154.759504</td>\n",
              "    </tr>\n",
              "    <tr>\n",
              "      <th>2018-12-31</th>\n",
              "      <td>7576.803839</td>\n",
              "      <td>7582.514112</td>\n",
              "      <td>7570.686577</td>\n",
              "      <td>7576.778120</td>\n",
              "      <td>7.774885</td>\n",
              "      <td>60791.446371</td>\n",
              "      <td>7576.505596</td>\n",
              "    </tr>\n",
              "    <tr>\n",
              "      <th>2019-12-31</th>\n",
              "      <td>7427.136604</td>\n",
              "      <td>7431.551337</td>\n",
              "      <td>7422.596721</td>\n",
              "      <td>7426.850617</td>\n",
              "      <td>5.890939</td>\n",
              "      <td>45557.178460</td>\n",
              "      <td>7427.214436</td>\n",
              "    </tr>\n",
              "    <tr>\n",
              "      <th>2020-12-31</th>\n",
              "      <td>11101.659803</td>\n",
              "      <td>11107.750772</td>\n",
              "      <td>11095.796427</td>\n",
              "      <td>11101.816959</td>\n",
              "      <td>5.924746</td>\n",
              "      <td>64156.670520</td>\n",
              "      <td>11102.143340</td>\n",
              "    </tr>\n",
              "    <tr>\n",
              "      <th>2021-12-31</th>\n",
              "      <td>44898.235952</td>\n",
              "      <td>44936.955409</td>\n",
              "      <td>44858.779264</td>\n",
              "      <td>44898.869424</td>\n",
              "      <td>6.648063</td>\n",
              "      <td>274317.633728</td>\n",
              "      <td>44896.619557</td>\n",
              "    </tr>\n",
              "  </tbody>\n",
              "</table>\n",
              "</div>"
            ],
            "text/plain": [
              "                    Open          High  ...  Volume_(Currency)  Weighted_Price\n",
              "Time-Stamp                              ...                                   \n",
              "2011-12-31      4.465000      4.482500  ...         106.330084        4.471603\n",
              "2012-12-31     10.094570     10.097488  ...         216.485795       10.094143\n",
              "2013-12-31    254.281420    254.658978  ...        4851.052777      254.242741\n",
              "2014-12-31    527.132511    527.571308  ...        6568.182937      527.113071\n",
              "2015-12-31    274.366745    274.509271  ...        4146.228635      274.353829\n",
              "2016-12-31    558.906222    559.088461  ...        3159.519900      558.890451\n",
              "2017-12-31   4155.221695   4159.353798  ...       45053.550037     4154.759504\n",
              "2018-12-31   7576.803839   7582.514112  ...       60791.446371     7576.505596\n",
              "2019-12-31   7427.136604   7431.551337  ...       45557.178460     7427.214436\n",
              "2020-12-31  11101.659803  11107.750772  ...       64156.670520    11102.143340\n",
              "2021-12-31  44898.235952  44936.955409  ...      274317.633728    44896.619557\n",
              "\n",
              "[11 rows x 7 columns]"
            ]
          },
          "metadata": {},
          "execution_count": 29
        }
      ]
    },
    {
      "cell_type": "markdown",
      "metadata": {
        "id": "Wko2bLkBhHjI"
      },
      "source": [
        "### Setting Time-Stamp as index"
      ]
    },
    {
      "cell_type": "code",
      "metadata": {
        "id": "Xahjey5tHHN2"
      },
      "source": [
        "btc_df.set_index(\"Time-Stamp\", inplace = True)"
      ],
      "execution_count": null,
      "outputs": []
    },
    {
      "cell_type": "code",
      "metadata": {
        "colab": {
          "base_uri": "https://localhost:8080/",
          "height": 238
        },
        "id": "WsZ0T-8SdMQF",
        "outputId": "d09298a3-9c53-476c-afce-29b513b69370"
      },
      "source": [
        "btc_df.head()"
      ],
      "execution_count": null,
      "outputs": [
        {
          "output_type": "execute_result",
          "data": {
            "text/html": [
              "<div>\n",
              "<style scoped>\n",
              "    .dataframe tbody tr th:only-of-type {\n",
              "        vertical-align: middle;\n",
              "    }\n",
              "\n",
              "    .dataframe tbody tr th {\n",
              "        vertical-align: top;\n",
              "    }\n",
              "\n",
              "    .dataframe thead th {\n",
              "        text-align: right;\n",
              "    }\n",
              "</style>\n",
              "<table border=\"1\" class=\"dataframe\">\n",
              "  <thead>\n",
              "    <tr style=\"text-align: right;\">\n",
              "      <th></th>\n",
              "      <th>Open</th>\n",
              "      <th>High</th>\n",
              "      <th>Low</th>\n",
              "      <th>Close</th>\n",
              "      <th>Volume_(BTC)</th>\n",
              "      <th>Volume_(Currency)</th>\n",
              "      <th>Weighted_Price</th>\n",
              "    </tr>\n",
              "    <tr>\n",
              "      <th>Time-Stamp</th>\n",
              "      <th></th>\n",
              "      <th></th>\n",
              "      <th></th>\n",
              "      <th></th>\n",
              "      <th></th>\n",
              "      <th></th>\n",
              "      <th></th>\n",
              "    </tr>\n",
              "  </thead>\n",
              "  <tbody>\n",
              "    <tr>\n",
              "      <th>2011-12-31 07:52:00</th>\n",
              "      <td>4.39</td>\n",
              "      <td>4.39</td>\n",
              "      <td>4.39</td>\n",
              "      <td>4.39</td>\n",
              "      <td>0.455581</td>\n",
              "      <td>2.000000</td>\n",
              "      <td>4.390000</td>\n",
              "    </tr>\n",
              "    <tr>\n",
              "      <th>2011-12-31 15:50:00</th>\n",
              "      <td>4.39</td>\n",
              "      <td>4.39</td>\n",
              "      <td>4.39</td>\n",
              "      <td>4.39</td>\n",
              "      <td>48.000000</td>\n",
              "      <td>210.720000</td>\n",
              "      <td>4.390000</td>\n",
              "    </tr>\n",
              "    <tr>\n",
              "      <th>2011-12-31 16:59:00</th>\n",
              "      <td>4.50</td>\n",
              "      <td>4.57</td>\n",
              "      <td>4.50</td>\n",
              "      <td>4.57</td>\n",
              "      <td>37.862297</td>\n",
              "      <td>171.380338</td>\n",
              "      <td>4.526411</td>\n",
              "    </tr>\n",
              "    <tr>\n",
              "      <th>2011-12-31 17:00:00</th>\n",
              "      <td>4.58</td>\n",
              "      <td>4.58</td>\n",
              "      <td>4.58</td>\n",
              "      <td>4.58</td>\n",
              "      <td>9.000000</td>\n",
              "      <td>41.220000</td>\n",
              "      <td>4.580000</td>\n",
              "    </tr>\n",
              "    <tr>\n",
              "      <th>2012-01-01 04:16:00</th>\n",
              "      <td>4.58</td>\n",
              "      <td>4.58</td>\n",
              "      <td>4.58</td>\n",
              "      <td>4.58</td>\n",
              "      <td>1.502000</td>\n",
              "      <td>6.879160</td>\n",
              "      <td>4.580000</td>\n",
              "    </tr>\n",
              "  </tbody>\n",
              "</table>\n",
              "</div>"
            ],
            "text/plain": [
              "                     Open  High  ...  Volume_(Currency)  Weighted_Price\n",
              "Time-Stamp                       ...                                   \n",
              "2011-12-31 07:52:00  4.39  4.39  ...           2.000000        4.390000\n",
              "2011-12-31 15:50:00  4.39  4.39  ...         210.720000        4.390000\n",
              "2011-12-31 16:59:00  4.50  4.57  ...         171.380338        4.526411\n",
              "2011-12-31 17:00:00  4.58  4.58  ...          41.220000        4.580000\n",
              "2012-01-01 04:16:00  4.58  4.58  ...           6.879160        4.580000\n",
              "\n",
              "[5 rows x 7 columns]"
            ]
          },
          "metadata": {},
          "execution_count": 35
        }
      ]
    },
    {
      "cell_type": "code",
      "metadata": {
        "id": "L9JXLe1tG17I"
      },
      "source": [
        "btc_df[\"Close - Open\"] = btc_df[\"Close\"] - btc_df[\"Open\"]\n",
        "# if the value is > 0, then there is rise in the value\n",
        "btc_df[\"(Close - Open) percentage\"] = (btc_df[\"Close - Open\"] / btc_df['Open']) * 100 "
      ],
      "execution_count": null,
      "outputs": []
    },
    {
      "cell_type": "code",
      "metadata": {
        "colab": {
          "base_uri": "https://localhost:8080/",
          "height": 238
        },
        "id": "LEhEQUxsgu6z",
        "outputId": "c1060129-395a-41e6-a5bb-7ce2a32f58b3"
      },
      "source": [
        "btc_df.head()"
      ],
      "execution_count": null,
      "outputs": [
        {
          "output_type": "execute_result",
          "data": {
            "text/html": [
              "<div>\n",
              "<style scoped>\n",
              "    .dataframe tbody tr th:only-of-type {\n",
              "        vertical-align: middle;\n",
              "    }\n",
              "\n",
              "    .dataframe tbody tr th {\n",
              "        vertical-align: top;\n",
              "    }\n",
              "\n",
              "    .dataframe thead th {\n",
              "        text-align: right;\n",
              "    }\n",
              "</style>\n",
              "<table border=\"1\" class=\"dataframe\">\n",
              "  <thead>\n",
              "    <tr style=\"text-align: right;\">\n",
              "      <th></th>\n",
              "      <th>Open</th>\n",
              "      <th>High</th>\n",
              "      <th>Low</th>\n",
              "      <th>Close</th>\n",
              "      <th>Volume_(BTC)</th>\n",
              "      <th>Volume_(Currency)</th>\n",
              "      <th>Weighted_Price</th>\n",
              "      <th>Close - Open</th>\n",
              "      <th>(Close - Open) percentage</th>\n",
              "    </tr>\n",
              "    <tr>\n",
              "      <th>Time-Stamp</th>\n",
              "      <th></th>\n",
              "      <th></th>\n",
              "      <th></th>\n",
              "      <th></th>\n",
              "      <th></th>\n",
              "      <th></th>\n",
              "      <th></th>\n",
              "      <th></th>\n",
              "      <th></th>\n",
              "    </tr>\n",
              "  </thead>\n",
              "  <tbody>\n",
              "    <tr>\n",
              "      <th>2011-12-31 07:52:00</th>\n",
              "      <td>4.39</td>\n",
              "      <td>4.39</td>\n",
              "      <td>4.39</td>\n",
              "      <td>4.39</td>\n",
              "      <td>0.455581</td>\n",
              "      <td>2.000000</td>\n",
              "      <td>4.390000</td>\n",
              "      <td>0.00</td>\n",
              "      <td>0.000000</td>\n",
              "    </tr>\n",
              "    <tr>\n",
              "      <th>2011-12-31 15:50:00</th>\n",
              "      <td>4.39</td>\n",
              "      <td>4.39</td>\n",
              "      <td>4.39</td>\n",
              "      <td>4.39</td>\n",
              "      <td>48.000000</td>\n",
              "      <td>210.720000</td>\n",
              "      <td>4.390000</td>\n",
              "      <td>0.00</td>\n",
              "      <td>0.000000</td>\n",
              "    </tr>\n",
              "    <tr>\n",
              "      <th>2011-12-31 16:59:00</th>\n",
              "      <td>4.50</td>\n",
              "      <td>4.57</td>\n",
              "      <td>4.50</td>\n",
              "      <td>4.57</td>\n",
              "      <td>37.862297</td>\n",
              "      <td>171.380338</td>\n",
              "      <td>4.526411</td>\n",
              "      <td>0.07</td>\n",
              "      <td>1.555556</td>\n",
              "    </tr>\n",
              "    <tr>\n",
              "      <th>2011-12-31 17:00:00</th>\n",
              "      <td>4.58</td>\n",
              "      <td>4.58</td>\n",
              "      <td>4.58</td>\n",
              "      <td>4.58</td>\n",
              "      <td>9.000000</td>\n",
              "      <td>41.220000</td>\n",
              "      <td>4.580000</td>\n",
              "      <td>0.00</td>\n",
              "      <td>0.000000</td>\n",
              "    </tr>\n",
              "    <tr>\n",
              "      <th>2012-01-01 04:16:00</th>\n",
              "      <td>4.58</td>\n",
              "      <td>4.58</td>\n",
              "      <td>4.58</td>\n",
              "      <td>4.58</td>\n",
              "      <td>1.502000</td>\n",
              "      <td>6.879160</td>\n",
              "      <td>4.580000</td>\n",
              "      <td>0.00</td>\n",
              "      <td>0.000000</td>\n",
              "    </tr>\n",
              "  </tbody>\n",
              "</table>\n",
              "</div>"
            ],
            "text/plain": [
              "                     Open  High  ...  Close - Open  (Close - Open) percentage\n",
              "Time-Stamp                       ...                                         \n",
              "2011-12-31 07:52:00  4.39  4.39  ...          0.00                   0.000000\n",
              "2011-12-31 15:50:00  4.39  4.39  ...          0.00                   0.000000\n",
              "2011-12-31 16:59:00  4.50  4.57  ...          0.07                   1.555556\n",
              "2011-12-31 17:00:00  4.58  4.58  ...          0.00                   0.000000\n",
              "2012-01-01 04:16:00  4.58  4.58  ...          0.00                   0.000000\n",
              "\n",
              "[5 rows x 9 columns]"
            ]
          },
          "metadata": {},
          "execution_count": 38
        }
      ]
    },
    {
      "cell_type": "code",
      "metadata": {
        "colab": {
          "base_uri": "https://localhost:8080/"
        },
        "id": "aEbB8hP1gu3V",
        "outputId": "b1a13504-d51a-48e1-ca89-f85079d83538"
      },
      "source": [
        "btc_df.mean()"
      ],
      "execution_count": null,
      "outputs": [
        {
          "output_type": "execute_result",
          "data": {
            "text/plain": [
              "Open                          6009.023680\n",
              "High                          6013.357082\n",
              "Low                           6004.488004\n",
              "Close                         6009.013545\n",
              "Volume_(BTC)                     9.323249\n",
              "Volume_(Currency)            41762.842397\n",
              "Weighted_Price                6008.934800\n",
              "Close - Open                    -0.010135\n",
              "(Close - Open) percentage       -0.000793\n",
              "dtype: float64"
            ]
          },
          "metadata": {},
          "execution_count": 40
        }
      ]
    },
    {
      "cell_type": "markdown",
      "metadata": {
        "id": "rxojSKWfy7yE"
      },
      "source": [
        "### Analysis"
      ]
    },
    {
      "cell_type": "markdown",
      "metadata": {
        "id": "Iu9sKzGPzF5z"
      },
      "source": [
        "### What is the variation observed in Open / Close price of btc"
      ]
    },
    {
      "cell_type": "code",
      "metadata": {
        "id": "EekShtzp2m_r"
      },
      "source": [
        "from matplotlib.pyplot import figure"
      ],
      "execution_count": null,
      "outputs": []
    },
    {
      "cell_type": "code",
      "metadata": {
        "colab": {
          "base_uri": "https://localhost:8080/",
          "height": 329
        },
        "id": "Fcn7bUway-4x",
        "outputId": "81d703ee-dad7-444b-aac9-536b91050bf4"
      },
      "source": [
        "figure(figsize = (12,4), dpi = 80)\n",
        "plt.subplot(1,2,1)\n",
        "plt.plot(btc_df[\"Open\"], color = \"r\")\n",
        "plt.xlabel(\"Year\")\n",
        "plt.ylabel(\"Price in USD\")\n",
        "plt.title(\"Open price vs Year\")\n",
        "plt.tight_layout()\n",
        "\n",
        "plt.subplot(1,2,2)\n",
        "plt.plot(btc_df_2[\"Open\"], color = \"b\")\n",
        "plt.title(\"Mean Price vs Year\")\n",
        "plt.xlabel(\"Year\")\n",
        "plt.ylabel(\"Price in USD\")\n",
        "plt.tight_layout()"
      ],
      "execution_count": null,
      "outputs": [
        {
          "output_type": "display_data",
          "data": {
            "image/png": "[encoded data removed]",
            "text/plain": [
              "<Figure size 960x320 with 2 Axes>"
            ]
          },
          "metadata": {
            "needs_background": "light"
          }
        }
      ]
    },
    {
      "cell_type": "markdown",
      "metadata": {
        "id": "DaXt4Dl500o_"
      },
      "source": [
        "1.  The btc price has increased over the years\n",
        "2.  The maximum rise was seen in late 2020 and early 2021 \n",
        "3.  Mean price was stable till 2017 after which it has increased and reached maximum in 2021\n",
        "4. There was a sudden rise in btc price in late 2017. It was called \" 2017 boom and 2018 crash\"  For more info : https://en.wikipedia.org/wiki/Cryptocurrency_bubble#2017_boom_and_2018_crash\n"
      ]
    },
    {
      "cell_type": "code",
      "metadata": {
        "colab": {
          "base_uri": "https://localhost:8080/",
          "height": 329
        },
        "id": "Fv2kS5CNy-z6",
        "outputId": "95540df5-6964-4639-e3e4-aa9869a34474"
      },
      "source": [
        "figure(figsize = (12,4), dpi = 80)\n",
        "plt.subplot(1,2,1)\n",
        "plt.plot(btc_df_2[btc_df_2.index < \"2017\"][\"Open\"] , color = \"r\" )\n",
        "plt.xlabel(\"Year\")\n",
        "plt.ylabel(\"Mean Price\")\n",
        "plt.title(\"Mean price of btc from 2011 to 2017\")\n",
        "plt.tight_layout()\n",
        "\n",
        "plt.subplot(1,2,2)\n",
        "plt.plot(btc_df_2[btc_df_2.index > \"2016\"][\"Open\"], color = \"b\")\n",
        "plt.xlabel(\"Year\")\n",
        "plt.ylabel(\"Mean Price\")\n",
        "plt.title(\"Mean price of btc from 2017 to 2021\")\n",
        "plt.tight_layout()\n"
      ],
      "execution_count": null,
      "outputs": [
        {
          "output_type": "display_data",
          "data": {
            "image/png": "[encoded data removed]",
            "text/plain": [
              "<Figure size 960x320 with 2 Axes>"
            ]
          },
          "metadata": {
            "needs_background": "light"
          }
        }
      ]
    },
    {
      "cell_type": "markdown",
      "metadata": {
        "id": "yNR0sAmtNOrl"
      },
      "source": [
        "1. In 2013, btc experienced highest ever jump, going from $10 to $254 and to around $524 in 2014 \n",
        "2. In 2017-2018, btc was unstable, due to boom and crash\n",
        "3. After 2019, btc price is increasing continuously, with little drop in early 2020 due to pandemic. For more info : https://en.wikipedia.org/wiki/Cryptocurrency_bubble#2021_boom\n",
        "\n"
      ]
    },
    {
      "cell_type": "code",
      "metadata": {
        "id": "5niXpAYAG1hx",
        "colab": {
          "base_uri": "https://localhost:8080/",
          "height": 329
        },
        "outputId": "94d68c82-2e91-4b47-9afe-93ba43e70c38"
      },
      "source": [
        "figure(figsize=(12,4), dpi = 80)\n",
        "plt.subplot(2,2,1)\n",
        "plt.plot(btc_df[\"Volume_(BTC)\"], color = \"r\")\n",
        "plt.title(\"Volume vs time\")\n",
        "plt.xlabel(\"Time in year\")\n",
        "plt.ylabel(\"Volume\")\n",
        "plt.tight_layout()\n",
        "\n",
        "plt.subplot(2,2,2)\n",
        "plt.plot(btc_df[\"Close\"], color = \"b\")\n",
        "plt.title(\"Close Price vs time\")\n",
        "plt.xlabel(\"Time in year\")\n",
        "plt.ylabel(\"Close\")\n",
        "plt.tight_layout()\n",
        "\n",
        "plt.subplot(2,2,3)\n",
        "plt.plot(btc_df[\"Weighted_Price\"], color = \"g\")\n",
        "plt.title(\"Weighted_Price vs time\")\n",
        "plt.xlabel(\"Time in year\")\n",
        "plt.ylabel(\"Weighted Price\")\n",
        "plt.tight_layout()\n",
        "\n",
        "plt.subplot(2,2,4)\n",
        "plt.plot(btc_df[\"Open\"], color = \"y\")\n",
        "plt.title(\"Open Price vs time\")\n",
        "plt.xlabel(\"Time in year\")\n",
        "plt.ylabel(\"Open Price\")\n",
        "plt.tight_layout()\n"
      ],
      "execution_count": null,
      "outputs": [
        {
          "output_type": "display_data",
          "data": {
            "image/png": "[encoded data removed]",
            "text/plain": [
              "<Figure size 960x320 with 4 Axes>"
            ]
          },
          "metadata": {
            "needs_background": "light"
          }
        }
      ]
    },
    {
      "cell_type": "code",
      "metadata": {
        "id": "5nr4vnWCG1d4",
        "colab": {
          "base_uri": "https://localhost:8080/",
          "height": 329
        },
        "outputId": "5e4b9769-e1e7-4332-c7e4-b85aaca85d2e"
      },
      "source": [
        "figure(figsize=(12,4), dpi = 80)\n",
        "plt.subplot(1,2,1)\n",
        "plt.plot(btc_df_2[\"Volume_(BTC)\"])\n",
        "plt.title(\"Volume vs time\")\n",
        "plt.xlabel(\"Time in year\")\n",
        "plt.ylabel(\"Volume\")\n",
        "plt.tight_layout()\n",
        "\n",
        "plt.subplot(1,2,2)\n",
        "plt.plot(btc_df_2[\"Weighted_Price\"], color = \"r\")\n",
        "plt.title(\"Weighted Price vs time\")\n",
        "plt.xlabel(\"Time in year\")\n",
        "plt.ylabel(\"Weighted Price\")\n",
        "plt.tight_layout()"
      ],
      "execution_count": null,
      "outputs": [
        {
          "output_type": "display_data",
          "data": {
            "image/png": "[encoded data removed]",
            "text/plain": [
              "<Figure size 960x320 with 2 Axes>"
            ]
          },
          "metadata": {
            "needs_background": "light"
          }
        }
      ]
    },
    {
      "cell_type": "markdown",
      "metadata": {
        "id": "whpxWG8xKo8i"
      },
      "source": [
        ""
      ]
    },
    {
      "cell_type": "code",
      "metadata": {
        "id": "2_w7qkPsDl6P"
      },
      "source": [
        ""
      ],
      "execution_count": null,
      "outputs": []
    }
  ]
}